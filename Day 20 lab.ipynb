{
 "cells": [
  {
   "cell_type": "code",
   "execution_count": 1,
   "id": "ff45c04c-c911-4128-b8ae-567604aeba5a",
   "metadata": {},
   "outputs": [
    {
     "name": "stdout",
     "output_type": "stream",
     "text": [
      "Total Revenue: [ 950 1300 1500 1150]\n"
     ]
    }
   ],
   "source": [
    "import numpy as np\n",
    "\n",
    "# Input arrays\n",
    "category1_revenue = np.array([500, 600, 700, 550])\n",
    "category2_revenue = np.array([450, 700, 800, 600])\n",
    "\n",
    "# Calculate total revenue\n",
    "total_revenue = category1_revenue + category2_revenue\n",
    "\n",
    "# Print the total revenue\n",
    "print(\"Total Revenue:\", total_revenue)"
   ]
  },
  {
   "cell_type": "code",
   "execution_count": 2,
   "id": "8762a416-abf3-4819-89b4-dd646c20a30c",
   "metadata": {},
   "outputs": [
    {
     "name": "stdout",
     "output_type": "stream",
     "text": [
      "Profit: [6000 7000 6500 5700]\n"
     ]
    }
   ],
   "source": [
    "# Input arrays\n",
    "revenue = np.array([10000, 12000, 11000, 10500])\n",
    "expenses = np.array([4000, 5000, 4500, 4800])\n",
    "\n",
    "# Calculate profit\n",
    "profit = revenue - expenses\n",
    "\n",
    "# Print the profit\n",
    "print(\"Profit:\", profit)"
   ]
  },
  {
   "cell_type": "code",
   "execution_count": 3,
   "id": "08585a2e-17db-47f9-beb8-73a98711e533",
   "metadata": {},
   "outputs": [
    {
     "name": "stdout",
     "output_type": "stream",
     "text": [
      "Out of Stock Products: [0 0 0]\n"
     ]
    }
   ],
   "source": [
    "# Input array\n",
    "inventory = np.array([10, 0, 5, 0, 20, 0])\n",
    "\n",
    "# Find out of stock products (quantity is 0)\n",
    "out_of_stock_mask = inventory == 0\n",
    "out_of_stock_products = inventory[out_of_stock_mask]\n",
    "\n",
    "# Print out of stock products\n",
    "print(\"Out of Stock Products:\", out_of_stock_products)"
   ]
  },
  {
   "cell_type": "code",
   "execution_count": 4,
   "id": "dc42c6ed-4010-4d9d-97d2-bf9d2f292eec",
   "metadata": {},
   "outputs": [
    {
     "name": "stdout",
     "output_type": "stream",
     "text": [
      "Total Cost of Items: [20. 15. 32. 12.]\n"
     ]
    }
   ],
   "source": [
    "# Input arrays\n",
    "quantity = np.array([2, 3, 4, 1])\n",
    "price_per_item = np.array([10.0, 5.0, 8.0, 12.0])\n",
    "\n",
    "# Calculate total cost of items\n",
    "total_cost = quantity * price_per_item\n",
    "\n",
    "# Print the total cost\n",
    "print(\"Total Cost of Items:\", total_cost)"
   ]
  },
  {
   "cell_type": "code",
   "execution_count": null,
   "id": "2e7ad806-6cc3-4168-86d8-ad0ba0209979",
   "metadata": {},
   "outputs": [],
   "source": []
  }
 ],
 "metadata": {
  "kernelspec": {
   "display_name": "Python 3 (ipykernel)",
   "language": "python",
   "name": "python3"
  },
  "language_info": {
   "codemirror_mode": {
    "name": "ipython",
    "version": 3
   },
   "file_extension": ".py",
   "mimetype": "text/x-python",
   "name": "python",
   "nbconvert_exporter": "python",
   "pygments_lexer": "ipython3",
   "version": "3.12.3"
  }
 },
 "nbformat": 4,
 "nbformat_minor": 5
}
