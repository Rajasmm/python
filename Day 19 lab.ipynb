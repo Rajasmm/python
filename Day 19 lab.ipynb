{
 "cells": [
  {
   "cell_type": "code",
   "execution_count": 1,
   "id": "43192e05-1b8e-4b2d-bb71-21a6571c4e2f",
   "metadata": {},
   "outputs": [
    {
     "name": "stdout",
     "output_type": "stream",
     "text": [
      "Mean of each array: [5.5, 30.6, 34.0]\n"
     ]
    }
   ],
   "source": [
    "import numpy as np\n",
    "\n",
    "# Input list of NumPy arrays\n",
    "arrays_list = [np.array([3, 2, 8, 9]), np.array([4, 12, 34, 25, 78]), np.array([23, 12, 67])]\n",
    "\n",
    "# Initialize an empty list to store the means\n",
    "means = []\n",
    "\n",
    "# Iterate over the list and compute the mean for each array\n",
    "for arr in arrays_list:\n",
    "    mean_value = np.mean(arr)\n",
    "    means.append(mean_value)\n",
    "\n",
    "# Print the list of means\n",
    "print(\"Mean of each array:\", means)"
   ]
  },
  {
   "cell_type": "code",
   "execution_count": 2,
   "id": "a1acbd7a-f80f-47ce-a88c-75c9aa056163",
   "metadata": {},
   "outputs": [
    {
     "name": "stdout",
     "output_type": "stream",
     "text": [
      "Printing the Original array: [1 2 3 4 5 6 7]\n",
      "Median of the array that contains odd number of elements: 4.0\n"
     ]
    }
   ],
   "source": [
    "# Input array\n",
    "x_odd = np.array([1, 2, 3, 4, 5, 6, 7])\n",
    "\n",
    "# Print the original array\n",
    "print(\"Printing the Original array:\", x_odd)\n",
    "\n",
    "# Compute the median of the array\n",
    "median_value = np.median(x_odd)\n",
    "\n",
    "# Print the median\n",
    "print(\"Median of the array that contains odd number of elements:\", median_value)"
   ]
  },
  {
   "cell_type": "code",
   "execution_count": 4,
   "id": "f3c34eae-6e7b-4f6a-a0fc-7d87e49e0014",
   "metadata": {},
   "outputs": [
    {
     "name": "stdout",
     "output_type": "stream",
     "text": [
      "arr: [20, 2, 7, 1, 34]\n",
      "std of arr: 12.576167937809991\n",
      "\n",
      "More precision with float32\n",
      "std of arr: 12.576168\n",
      "\n",
      "More accuracy with float64\n",
      "std of arr: 12.576167937809991\n"
     ]
    }
   ],
   "source": [
    "# Input array\n",
    "arr = np.array([20, 2, 7, 1, 34])\n",
    "\n",
    "# Print the original array\n",
    "print(\"arr:\", arr.tolist())\n",
    "\n",
    "# Compute the standard deviation with default precision (float64)\n",
    "std_default = np.std(arr)\n",
    "print(\"std of arr:\", std_default)\n",
    "\n",
    "# Compute the standard deviation with float32 precision\n",
    "std_float32 = np.std(arr.astype(np.float32))\n",
    "print(\"\\nMore precision with float32\")\n",
    "print(\"std of arr:\", std_float32)\n",
    "\n",
    "# Compute the standard deviation with float64 precision\n",
    "std_float64 = np.std(arr.astype(np.float64))\n",
    "print(\"\\nMore accuracy with float64\")\n",
    "print(\"std of arr:\", std_float64)"
   ]
  },
  {
   "cell_type": "code",
   "execution_count": 12,
   "id": "bd1db2c6-42d0-4b13-90a8-c5b845abea0e",
   "metadata": {},
   "outputs": [
    {
     "name": "stdout",
     "output_type": "stream",
     "text": [
      "Average House Price: 5150.54128440367\n",
      "High-Pricing Houses:\n",
      "[[1.330e+07 7.420e+03 4.000e+00 ... 2.000e+00       nan       nan]\n",
      " [1.225e+07 8.960e+03 4.000e+00 ... 3.000e+00       nan       nan]\n",
      " [1.225e+07 9.960e+03 3.000e+00 ... 2.000e+00       nan       nan]\n",
      " ...\n",
      " [2.730e+06 6.800e+03 2.000e+00 ... 0.000e+00       nan       nan]\n",
      " [2.450e+06 7.700e+03 2.000e+00 ... 0.000e+00       nan       nan]\n",
      " [2.233e+06 5.300e+03 3.000e+00 ... 0.000e+00       nan       nan]]\n"
     ]
    }
   ],
   "source": [
    "# Step 1: Read the data from the CSV file into a NumPy array\n",
    "data = np.genfromtxt('Housing.csv', delimiter=',', skip_header=1)\n",
    "\n",
    "# If data is 1-dimensional, assume it contains only prices\n",
    "if data.ndim == 1:\n",
    "    prices = data\n",
    "else:\n",
    "    # Assuming the CSV has two columns: id and price\n",
    "    prices = data[:, 1]\n",
    "\n",
    "# Step 2: Calculate the average of house prices\n",
    "average_price = np.mean(prices)\n",
    "print(\"Average House Price:\", average_price)\n",
    "\n",
    "# Step 3: Identify house prices above the average\n",
    "high_price_mask = prices > average_price\n",
    "high_price_houses = data[high_price_mask]\n",
    "\n",
    "# Step 4: Save the list of high prices to a new CSV file\n",
    "np.savetxt('high_prices_houses.csv', high_price_houses[:, 1], delimiter=',', header='price', fmt='%.2f', comments='')\n",
    "\n",
    "# Print high pricing houses for output\n",
    "print(\"High-Pricing Houses:\")\n",
    "print(high_price_houses)\n"
   ]
  },
  {
   "cell_type": "code",
   "execution_count": null,
   "id": "a121b893-8bad-4343-a5bf-a64dc250365c",
   "metadata": {},
   "outputs": [],
   "source": []
  }
 ],
 "metadata": {
  "kernelspec": {
   "display_name": "Python 3 (ipykernel)",
   "language": "python",
   "name": "python3"
  },
  "language_info": {
   "codemirror_mode": {
    "name": "ipython",
    "version": 3
   },
   "file_extension": ".py",
   "mimetype": "text/x-python",
   "name": "python",
   "nbconvert_exporter": "python",
   "pygments_lexer": "ipython3",
   "version": "3.12.3"
  }
 },
 "nbformat": 4,
 "nbformat_minor": 5
}
