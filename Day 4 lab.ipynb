{
 "cells": [
  {
   "cell_type": "code",
   "execution_count": 1,
   "id": "9dc4e8f7-adb9-4ba5-a58d-5aa1c3e4e70b",
   "metadata": {},
   "outputs": [
    {
     "name": "stdin",
     "output_type": "stream",
     "text": [
      "Enter a year:  1998\n"
     ]
    },
    {
     "name": "stdout",
     "output_type": "stream",
     "text": [
      "1998 is not a leap year.\n"
     ]
    }
   ],
   "source": [
    "# 1. Python program to check leap year \n",
    "# Take input from the user\n",
    "year = int(input(\"Enter a year: \"))\n",
    "\n",
    "# Check if it's a leap year and print the result\n",
    "if (year % 4 == 0 and year % 100 != 0) or (year % 400 == 0):\n",
    "    print(year, \"is a leap year.\")\n",
    "else:\n",
    "    print(year, \"is not a leap year.\")"
   ]
  },
  {
   "cell_type": "code",
   "execution_count": 2,
   "id": "7c43d262-71fa-41e9-8620-4304a18a9c23",
   "metadata": {},
   "outputs": [
    {
     "name": "stdin",
     "output_type": "stream",
     "text": [
      "Enter first number:  5\n",
      "Enter second number:  9\n",
      "Enter third number:  55\n"
     ]
    },
    {
     "name": "stdout",
     "output_type": "stream",
     "text": [
      "The largest number is: 55.0\n"
     ]
    }
   ],
   "source": [
    "# 2. Python Program to Find the Largest Among Three Numbers \n",
    "# Take input from the user for three numbers\n",
    "num1 = float(input(\"Enter first number: \"))\n",
    "num2 = float(input(\"Enter second number: \"))\n",
    "num3 = float(input(\"Enter third number: \"))\n",
    "\n",
    "# Find the largest number and print it\n",
    "if num1 >= num2 and num1 >= num3:\n",
    "    print(\"The largest number is:\", num1)\n",
    "elif num2 >= num1 and num2 >= num3:\n",
    "    print(\"The largest number is:\", num2)\n",
    "else:\n",
    "    print(\"The largest number is:\", num3)"
   ]
  },
  {
   "cell_type": "code",
   "execution_count": 3,
   "id": "6efcdf0a-d027-4836-b5b3-6414c9c56223",
   "metadata": {},
   "outputs": [
    {
     "name": "stdin",
     "output_type": "stream",
     "text": [
      "Enter a number:  -6\n"
     ]
    },
    {
     "name": "stdout",
     "output_type": "stream",
     "text": [
      "Negative number\n"
     ]
    }
   ],
   "source": [
    "# 3. Python Program to Check if a Number is Positive, Negative or 0 \n",
    "# Take input from the user\n",
    "num = float(input(\"Enter a number: \"))\n",
    "\n",
    "# Check if the number is positive, negative, or zero and print the result\n",
    "if num > 0:\n",
    "    print(\"Positive number\")\n",
    "elif num < 0:\n",
    "    print(\"Negative number\")\n",
    "else:\n",
    "    print(\"Zero\")"
   ]
  },
  {
   "cell_type": "code",
   "execution_count": 5,
   "id": "6abfd233-bb68-4b17-8f3e-31437b3cf51a",
   "metadata": {},
   "outputs": [
    {
     "name": "stdin",
     "output_type": "stream",
     "text": [
      "Enter product code (1 for Battery Based,2 for Key-based, 3 for Electrical Charging Based):  3\n",
      "Enter order amount:  5000\n"
     ]
    },
    {
     "name": "stdout",
     "output_type": "stream",
     "text": [
      "Net amount after discount: 4500.0\n"
     ]
    }
   ],
   "source": [
    "# 4.A toy vendor supplies three types of toys: Battery Based Toys, Key-based Toys, and Electrical Charging Based Toys.\n",
    "# The vendor gives a discount of 10% on orders for battery-based toys if the order is for more than Rs. 1000.\n",
    "# On orders of more than Rs. 100 for key-based toys, a discount of 5% is given, and a discount of 10% is given on orders for electrical charging based toys of value more than Rs. 500.\n",
    "# Assume that the numeric codes 1,2 and 3 are used for battery based toys, key-based toys, and electrical charging based toys respectively.\n",
    "# Write a program that reads the product code and the order amount and prints out the net amount that the customer is required to pay after the discount.\n",
    "\n",
    "# Take input from the user\n",
    "product_code = int(input(\"Enter product code (1 for Battery Based,2 for Key-based, 3 for Electrical Charging Based): \"))\n",
    "order_amount = float(input(\"Enter order amount: \"))\n",
    "\n",
    "# Initialize discount\n",
    "discount = 0\n",
    "\n",
    "# Calculate discount based on product code and order amount\n",
    "if product_code == 1 and order_amount > 1000:\n",
    "    discount = 0.1\n",
    "elif product_code == 2 and order_amount > 100:\n",
    "    discount = 0.05\n",
    "elif product_code == 3 and order_amount > 500:\n",
    "    discount = 0.1\n",
    "\n",
    "# Calculate net amount after discount and print it\n",
    "net_amount = order_amount - (order_amount * discount)\n",
    "print(\"Net amount after discount:\", net_amount)"
   ]
  },
  {
   "cell_type": "code",
   "execution_count": 7,
   "id": "bdee7163-df40-450c-8f7f-843bc002d216",
   "metadata": {},
   "outputs": [
    {
     "name": "stdin",
     "output_type": "stream",
     "text": [
      "Enter distance traveled in km:  52\n"
     ]
    },
    {
     "name": "stdout",
     "output_type": "stream",
     "text": [
      "Total fare: 420.0\n"
     ]
    }
   ],
   "source": [
    "# 5. A transport company charges the fare according to following table: Distance Charges 1-50 8 Rs./Km 51-100 10 Rs./Km > 100 12 Rs/Km\n",
    "## Take input from the user\n",
    "distance = float(input(\"Enter distance traveled in km: \"))\n",
    "\n",
    "# Calculate fare based on distance\n",
    "if distance <= 50:\n",
    "    fare = distance * 8\n",
    "elif distance <= 100:\n",
    "    fare = 50 * 8 + (distance - 50) * 10\n",
    "else:\n",
    "    fare = 50 * 8 + 50 * 10 + (distance - 100) * 12\n",
    "\n",
    "# Print the total fare\n",
    "print(\"Total fare:\", fare)"
   ]
  },
  {
   "cell_type": "code",
   "execution_count": null,
   "id": "cb90ca62-c881-49a3-83e8-0cae65a6feb8",
   "metadata": {},
   "outputs": [],
   "source": []
  }
 ],
 "metadata": {
  "kernelspec": {
   "display_name": "Python 3 (ipykernel)",
   "language": "python",
   "name": "python3"
  },
  "language_info": {
   "codemirror_mode": {
    "name": "ipython",
    "version": 3
   },
   "file_extension": ".py",
   "mimetype": "text/x-python",
   "name": "python",
   "nbconvert_exporter": "python",
   "pygments_lexer": "ipython3",
   "version": "3.12.3"
  }
 },
 "nbformat": 4,
 "nbformat_minor": 5
}
