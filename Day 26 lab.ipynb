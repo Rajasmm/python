{
 "cells": [
  {
   "cell_type": "code",
   "execution_count": 1,
   "id": "a2362ccb-fad2-4207-a515-e955d0bba811",
   "metadata": {},
   "outputs": [
    {
     "name": "stdout",
     "output_type": "stream",
     "text": [
      "DataFrame created from the dictionary:\n",
      "\n",
      "   Math  English  Hindi\n",
      "0    78       84     86\n",
      "1    85       94     97\n",
      "2    96       89     96\n",
      "3    80       83     72\n",
      "4    86       86     83\n"
     ]
    }
   ],
   "source": [
    "# Lab 1 Write a Pandas program to create a dataframe from a dictionary and display it.\n",
    "import pandas as pd\n",
    "\n",
    "# Sample data: scores dictionary\n",
    "scores = {\n",
    "    'Math': [78, 85, 96, 80, 86],\n",
    "    'English': [84, 94, 89, 83, 86],\n",
    "    'Hindi': [86, 97, 96, 72, 83]\n",
    "}\n",
    "\n",
    "# Creating a DataFrame from the dictionary\n",
    "df = pd.DataFrame(scores)\n",
    "\n",
    "# Displaying the DataFrame\n",
    "print(\"DataFrame created from the dictionary:\\n\")\n",
    "print(df)"
   ]
  },
  {
   "cell_type": "code",
   "execution_count": 2,
   "id": "23fb62f3-ddd9-4947-99ae-4ae1c61b4aa8",
   "metadata": {},
   "outputs": [
    {
     "name": "stdout",
     "output_type": "stream",
     "text": [
      "DataFrame created from the dictionary with specified index labels:\n",
      "\n",
      "        name  score  attempts qualify\n",
      "a  Anastasia   12.5         1     yes\n",
      "b       Dima    9.0         3      no\n",
      "c  Katherine   16.5         2     yes\n",
      "d      James    NaN         3      no\n",
      "e      Emily    9.0         2      no\n",
      "f    Michael   20.0         3     yes\n",
      "g    Matthew   14.5         1     yes\n",
      "h      Laura    NaN         1      no\n",
      "i      Kevin    8.0         2      no\n",
      "j      Jonas   19.0         1     yes\n"
     ]
    }
   ],
   "source": [
    "# Lab 2: Write a Pandas program to create and\n",
    "# display a DataFrame from a specified dictionary\n",
    "# data which has the index labels.\n",
    "import pandas as pd\n",
    "import numpy as np\n",
    "\n",
    "# Sample Python dictionary data and list labels\n",
    "exam_data = {\n",
    "    'name': ['Anastasia', 'Dima', 'Katherine', 'James', 'Emily', 'Michael', 'Matthew', 'Laura', 'Kevin', 'Jonas'],\n",
    "    'score': [12.5, 9, 16.5, np.nan, 9, 20, 14.5, np.nan, 8, 19],\n",
    "    'attempts': [1, 3, 2, 3, 2, 3, 1, 1, 2, 1],\n",
    "    'qualify': ['yes', 'no', 'yes', 'no', 'no', 'yes', 'yes', 'no', 'no', 'yes']\n",
    "}\n",
    "\n",
    "# Index labels\n",
    "index_labels = ['a', 'b', 'c', 'd', 'e', 'f', 'g', 'h', 'i', 'j']\n",
    "\n",
    "# Creating a DataFrame from the dictionary with specified index\n",
    "df = pd.DataFrame(exam_data, index=index_labels)\n",
    "\n",
    "# Displaying the DataFrame\n",
    "print(\"DataFrame created from the dictionary with specified index labels:\\n\")\n",
    "print(df)"
   ]
  },
  {
   "cell_type": "code",
   "execution_count": null,
   "id": "60d5c600-2ebe-4974-ac8c-e19361866fc4",
   "metadata": {},
   "outputs": [],
   "source": []
  }
 ],
 "metadata": {
  "kernelspec": {
   "display_name": "Python 3 (ipykernel)",
   "language": "python",
   "name": "python3"
  },
  "language_info": {
   "codemirror_mode": {
    "name": "ipython",
    "version": 3
   },
   "file_extension": ".py",
   "mimetype": "text/x-python",
   "name": "python",
   "nbconvert_exporter": "python",
   "pygments_lexer": "ipython3",
   "version": "3.12.3"
  }
 },
 "nbformat": 4,
 "nbformat_minor": 5
}
