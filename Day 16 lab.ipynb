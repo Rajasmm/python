{
 "cells": [
  {
   "cell_type": "code",
   "execution_count": 1,
   "id": "521ca155-0023-4da7-8287-17214f35bd95",
   "metadata": {},
   "outputs": [
    {
     "name": "stdout",
     "output_type": "stream",
     "text": [
      "[1 2 3 4 5]\n"
     ]
    }
   ],
   "source": [
    "# 1. Convert the below list into numpy array then display the array\n",
    "# Input: my_list = [1, 2, 3, 4, 5]\n",
    "\n",
    "import numpy as np\n",
    "\n",
    "# Define the list\n",
    "my_list = [1, 2, 3, 4, 5]\n",
    "\n",
    "# Convert the list to a NumPy array\n",
    "my_array = np.array(my_list)\n",
    "\n",
    "# Display the array\n",
    "print(my_array)"
   ]
  },
  {
   "cell_type": "code",
   "execution_count": 2,
   "id": "4ee824fe-5bf4-4dc7-9cb0-ecc527879b94",
   "metadata": {},
   "outputs": [
    {
     "name": "stdout",
     "output_type": "stream",
     "text": [
      "Array: [1 2 3 4 5]\n",
      "First element: 1\n",
      "Last element: 5\n",
      "Array after multiplication by 2: [ 2  4  6  8 10]\n"
     ]
    }
   ],
   "source": [
    "# 2. Convert the below list into a numpy array then display the array then display the first and last index and then multiply each element \n",
    "# by 2 and display the result.\n",
    "# Input: my_list = [1, 2, 3, 4, 5]\n",
    "\n",
    "import numpy as np\n",
    "\n",
    "# Define the list\n",
    "my_list = [1, 2, 3, 4, 5]\n",
    "\n",
    "# Convert the list to a NumPy array\n",
    "my_array = np.array(my_list)\n",
    "\n",
    "# Display the array\n",
    "print(\"Array:\", my_array)\n",
    "\n",
    "# Display the first and last elements\n",
    "print(\"First element:\", my_array[0])\n",
    "print(\"Last element:\", my_array[-1])\n",
    "\n",
    "# Multiply each element by 2\n",
    "multiplied_array = my_array * 2\n",
    "\n",
    "# Display the result\n",
    "print(\"Array after multiplication by 2:\", multiplied_array)"
   ]
  },
  {
   "cell_type": "code",
   "execution_count": null,
   "id": "3c3da09f-4074-4757-913a-7900343f94ce",
   "metadata": {},
   "outputs": [],
   "source": []
  }
 ],
 "metadata": {
  "kernelspec": {
   "display_name": "Python 3 (ipykernel)",
   "language": "python",
   "name": "python3"
  },
  "language_info": {
   "codemirror_mode": {
    "name": "ipython",
    "version": 3
   },
   "file_extension": ".py",
   "mimetype": "text/x-python",
   "name": "python",
   "nbconvert_exporter": "python",
   "pygments_lexer": "ipython3",
   "version": "3.12.3"
  }
 },
 "nbformat": 4,
 "nbformat_minor": 5
}
