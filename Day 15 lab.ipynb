{
 "cells": [
  {
   "cell_type": "code",
   "execution_count": 1,
   "id": "8d9f409d-98d6-4111-ae66-5c58ffc8395a",
   "metadata": {},
   "outputs": [
    {
     "name": "stdout",
     "output_type": "stream",
     "text": [
      "{20, 70, 10, 60}\n"
     ]
    }
   ],
   "source": [
    "# 1. Write a Python program to Get Only unique items from two sets. \n",
    "\n",
    "# Input: \n",
    "# set1 = {10, 20, 30, 40, 50} \n",
    "# set2 = {30, 40, 50, 60, 70} \n",
    "# Output: {70, 40, 10, 50, 20, 60, 30\n",
    "\n",
    "# Define the sets\n",
    "set1 = {10, 20, 30, 40, 50}\n",
    "set2 = {30, 40, 50, 60, 70}\n",
    "\n",
    "# Get the symmetric difference of the two sets\n",
    "unique_items = set1.symmetric_difference(set2)\n",
    "\n",
    "# Display the result\n",
    "print(unique_items)"
   ]
  },
  {
   "cell_type": "code",
   "execution_count": 2,
   "id": "63a3d77d-3cc2-4880-9905-4521dc7dd1ce",
   "metadata": {},
   "outputs": [
    {
     "name": "stdout",
     "output_type": "stream",
     "text": [
      "{20, 70, 10, 60}\n"
     ]
    }
   ],
   "source": [
    "# 2. Write a Python program to Return a set of elements present in Set A or B, but not both.Input: \n",
    "\n",
    "# set1 = {10, 20, 30, 40, 50} \n",
    "\n",
    "# set2 = {30, 40, 50, 60, 70}\n",
    "\n",
    "# Output: {20, 70, 10, 60} \n",
    "\n",
    "# Define the seset1 = {10, 20, 30, 40, 50}\n",
    "set2 = {30, 40, 50, 60, 70}\n",
    "\n",
    "# Get the symmetric difference of the two sets\n",
    "unique_items = set1 ^ set2\n",
    "\n",
    "# Display the result\n",
    "print(unique_items)"
   ]
  },
  {
   "cell_type": "code",
   "execution_count": 3,
   "id": "63e78e32-aa05-4885-8eb5-a07b6567a4ce",
   "metadata": {},
   "outputs": [
    {
     "name": "stdout",
     "output_type": "stream",
     "text": [
      "Common elements: {10}\n"
     ]
    }
   ],
   "source": [
    "# 3. Write a Python program to Check if two sets have any elements in common. If yes, display the common elements. Input: \n",
    "\n",
    "# set1 = {10, 20, 30, 40, 50} \n",
    "\n",
    "# set2 = {60, 70, 80, 90, 10} \n",
    "#Output: {10} \n",
    "\n",
    "# Define the sets\n",
    "set1 = {10, 20, 30, 40, 50}\n",
    "set2 = {60, 70, 80, 90, 10}\n",
    "\n",
    "# Get the intersection of the two sets\n",
    "common_elements = set1 & set2\n",
    "\n",
    "# Check if there are any common elements and display them\n",
    "if common_elements:\n",
    "    print(\"Common elements:\", common_elements)\n",
    "else:\n",
    "    print(\"No common elements\")"
   ]
  },
  {
   "cell_type": "code",
   "execution_count": 4,
   "id": "a183a7b9-e66b-4b0e-b153-3242bf220450",
   "metadata": {},
   "outputs": [
    {
     "name": "stdout",
     "output_type": "stream",
     "text": [
      "{40, 50, 30}\n"
     ]
    }
   ],
   "source": [
    "# 4. Write a Python program to Remove items from set1 that are not common to both set1 and set2.Input: \n",
    "\n",
    "# set1 = {10, 20, 30, 40, 50} \n",
    "# set2 = {30, 40, 50, 60, 70} \n",
    "\n",
    "# Output: {40, 50, 30}\n",
    "\n",
    "# Define the sets\n",
    "set1 = {10, 20, 30, 40, 50}\n",
    "set2 = {30, 40, 50, 60, 70}\n",
    "\n",
    "# Update set1 to keep only the items that are common to both sets\n",
    "set1.intersection_update(set2)\n",
    "\n",
    "# Display the result\n",
    "print(set1)"
   ]
  },
  {
   "cell_type": "code",
   "execution_count": null,
   "id": "5c649318-dcff-4a55-a593-5c5c054fdfcf",
   "metadata": {},
   "outputs": [],
   "source": []
  }
 ],
 "metadata": {
  "kernelspec": {
   "display_name": "Python 3 (ipykernel)",
   "language": "python",
   "name": "python3"
  },
  "language_info": {
   "codemirror_mode": {
    "name": "ipython",
    "version": 3
   },
   "file_extension": ".py",
   "mimetype": "text/x-python",
   "name": "python",
   "nbconvert_exporter": "python",
   "pygments_lexer": "ipython3",
   "version": "3.12.3"
  }
 },
 "nbformat": 4,
 "nbformat_minor": 5
}
