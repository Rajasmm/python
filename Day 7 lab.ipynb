{
 "cells": [
  {
   "cell_type": "code",
   "execution_count": 2,
   "id": "578f925f-43b3-429d-a793-4130a5d7547b",
   "metadata": {},
   "outputs": [
    {
     "name": "stdout",
     "output_type": "stream",
     "text": [
      "1\n",
      "2\n",
      "3\n",
      "4\n",
      "5\n",
      "6\n",
      "7\n",
      "8\n",
      "9\n",
      "10\n"
     ]
    }
   ],
   "source": [
    "# 1. Print the first 10 natural numbers using for loop \n",
    "for i in range (1,11):\n",
    "    print(i)"
   ]
  },
  {
   "cell_type": "code",
   "execution_count": 4,
   "id": "567602d7-88da-4315-b0c8-f159b41a32cb",
   "metadata": {},
   "outputs": [
    {
     "name": "stdin",
     "output_type": "stream",
     "text": [
      "Enter a string:  12321\n"
     ]
    },
    {
     "name": "stdout",
     "output_type": "stream",
     "text": [
      "Yes, it's a palindrome.\n"
     ]
    }
   ],
   "source": [
    "# 2. Python program to check if the given string is a palindrome \n",
    "def is_palindrome(s):\n",
    "    # Remove spaces and convert to lowercase\n",
    "    s = s.replace(\" \", \"\").lower()\n",
    "    \n",
    "    # Compare the string with its reverse\n",
    "    return s == s[::-1]\n",
    "\n",
    "# Test the function\n",
    "input_string = input(\"Enter a string: \")\n",
    "if is_palindrome(input_string):\n",
    "    print(\"Yes, it's a palindrome.\")\n",
    "else:\n",
    "    print(\"No, it's not a palindrome.\")"
   ]
  },
  {
   "cell_type": "code",
   "execution_count": 6,
   "id": "b94eae4b-223f-4031-8ae7-0b02b35910b3",
   "metadata": {},
   "outputs": [
    {
     "name": "stdin",
     "output_type": "stream",
     "text": [
      "Enter a number:  407\n"
     ]
    },
    {
     "name": "stdout",
     "output_type": "stream",
     "text": [
      "Yes, it's an Armstrong number.\n"
     ]
    }
   ],
   "source": [
    "# 3. Python program to check if a given number is an Armstrong number\n",
    "def is_armstrong_number(num):\n",
    "    # Convert the number to a string to find its length\n",
    "    num_str = str(num)\n",
    "    \n",
    "    # Calculate the number of digits\n",
    "    num_digits = len(num_str)\n",
    "    \n",
    "    # Initialize sum\n",
    "    armstrong_sum = 0\n",
    "    \n",
    "    # Calculate the sum of each digit raised to the power of the number of digits\n",
    "    for digit in num_str:\n",
    "        armstrong_sum += int(digit) ** num_digits\n",
    "    \n",
    "    # Check if the sum equals the original number\n",
    "    return armstrong_sum == num\n",
    "\n",
    "# Take input from the user\n",
    "num = int(input(\"Enter a number: \"))\n",
    "\n",
    "# Check if the input number is an Armstrong number\n",
    "if is_armstrong_number(num):\n",
    "    print(\"Yes, it's an Armstrong number.\")\n",
    "else:\n",
    "    print(\"No, it's not an Armstrong number.\")\n"
   ]
  },
  {
   "cell_type": "code",
   "execution_count": 7,
   "id": "bc3dc8fb-27e9-4e48-baf3-0420c4c5dc3f",
   "metadata": {},
   "outputs": [
    {
     "name": "stdout",
     "output_type": "stream",
     "text": [
      "Fibonacci series between 0 and 50:\n",
      "[0, 1, 1, 2, 3, 5, 8, 13, 21, 34]\n"
     ]
    }
   ],
   "source": [
    "# 4.Python program to get the Fibonacci series between 0 to 50\n",
    "def fibonacci_series(n):\n",
    "    # Initialize variables to store the first two Fibonacci numbers\n",
    "    fib_sequence = [0, 1]\n",
    "    \n",
    "    # Generate Fibonacci numbers until reaching or exceeding n\n",
    "    while True:\n",
    "        next_fib = fib_sequence[-1] + fib_sequence[-2]\n",
    "        if next_fib > n:\n",
    "            break\n",
    "        fib_sequence.append(next_fib)\n",
    "    \n",
    "    return fib_sequence\n",
    "\n",
    "# Call the function to generate Fibonacci series between 0 and 50\n",
    "fib_series = fibonacci_series(50)\n",
    "\n",
    "# Print the Fibonacci series\n",
    "print(\"Fibonacci series between 0 and 50:\")\n",
    "print(fib_series)"
   ]
  },
  {
   "cell_type": "code",
   "execution_count": 9,
   "id": "2754f74c-bcb3-4683-aea9-d9e14cabc99a",
   "metadata": {},
   "outputs": [
    {
     "name": "stdin",
     "output_type": "stream",
     "text": [
      "Enter your password:  Undert2$\n"
     ]
    },
    {
     "name": "stdout",
     "output_type": "stream",
     "text": [
      "Valid password.\n"
     ]
    }
   ],
   "source": [
    "# 5.Python program to check the validity of password input by users\n",
    "import re\n",
    "\n",
    "def is_valid_password(password):\n",
    "    # Check if password length is at least 8 characters\n",
    "    if len(password) < 8:\n",
    "        return False\n",
    "    \n",
    "    # Check if password contains at least one uppercase letter\n",
    "    if not any(char.isupper() for char in password):\n",
    "        return False\n",
    "    \n",
    "    # Check if password contains at least one lowercase letter\n",
    "    if not any(char.islower() for char in password):\n",
    "        return False\n",
    "    \n",
    "    # Check if password contains at least one digit\n",
    "    if not any(char.isdigit() for char in password):\n",
    "        return False\n",
    "    \n",
    "    # Check if password contains at least one special character\n",
    "    if not re.search(r'[!@#$%^&*()]', password):\n",
    "        return False\n",
    "    \n",
    "    # If all conditions pass, password is valid\n",
    "    return True\n",
    "\n",
    "# Take input from the user\n",
    "password = input(\"Enter your password: \")\n",
    "\n",
    "# Check if the input password is valid\n",
    "if is_valid_password(password):\n",
    "    print(\"Valid password.\")\n",
    "else:\n",
    "    print(\"Invalid password. Please make sure your password meets the requirements.\")"
   ]
  },
  {
   "cell_type": "code",
   "execution_count": null,
   "id": "d87fae8d-46d1-4b93-b46c-1cbf408f8f19",
   "metadata": {},
   "outputs": [],
   "source": []
  }
 ],
 "metadata": {
  "kernelspec": {
   "display_name": "Python 3 (ipykernel)",
   "language": "python",
   "name": "python3"
  },
  "language_info": {
   "codemirror_mode": {
    "name": "ipython",
    "version": 3
   },
   "file_extension": ".py",
   "mimetype": "text/x-python",
   "name": "python",
   "nbconvert_exporter": "python",
   "pygments_lexer": "ipython3",
   "version": "3.12.3"
  }
 },
 "nbformat": 4,
 "nbformat_minor": 5
}
