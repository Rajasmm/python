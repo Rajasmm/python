{
 "cells": [
  {
   "cell_type": "code",
   "execution_count": 16,
   "id": "f14a3942-ef4c-4c54-88ca-18b730e609ff",
   "metadata": {},
   "outputs": [],
   "source": [
    "#Write a Pandas program to create a Pivot table and find the total sale amount region wise, manager wise, sales man wise.\n",
    "\n",
    "import pandas as pd\n",
    "\n",
    "df = pd.read_csv(\"salesdataa.csv\")# Load the sales data"
   ]
  },
  {
   "cell_type": "code",
   "execution_count": 17,
   "id": "53c4f890-a0a4-4f9e-9c2c-f4154b9a30fb",
   "metadata": {},
   "outputs": [
    {
     "name": "stdout",
     "output_type": "stream",
     "text": [
      "                           Sale_amt\n",
      "Region  Manager SalesMan           \n",
      "Central Douglas John       124016.0\n",
      "        Hermann Luis       206373.0\n",
      "                Shelli      33698.0\n",
      "                Sigal      125037.5\n",
      "        Marth   Steven      14000.0\n",
      "        Martha  Steven     185690.0\n",
      "        Timothy David      140955.0\n",
      "East    Douglas Karen       48204.0\n",
      "        Martha  Alexander  236703.0\n",
      "                Diana       36100.0\n",
      "West    Douglas Michael     66836.0\n",
      "        Timothy Stephen     88063.0\n"
     ]
    }
   ],
   "source": [
    "pivot_table1 = pd.pivot_table(df, values='Sale_amt', index=['Region', 'Manager', 'SalesMan'], aggfunc='sum')  # Create a Pivot table\n",
    "\n",
    "print(pivot_table1)\t\t # Display the Pivot table"
   ]
  },
  {
   "cell_type": "code",
   "execution_count": 19,
   "id": "957cdfb0-6d63-4bbe-aee3-6f3aa841ef59",
   "metadata": {},
   "outputs": [
    {
     "name": "stdout",
     "output_type": "stream",
     "text": [
      "              Units\n",
      "Item               \n",
      "Cell Phone      278\n",
      "Desk             10\n",
      "Home Theater    722\n",
      "Television      716\n",
      "Video Games     395\n"
     ]
    }
   ],
   "source": [
    "#Write a Pandas program to create a Pivot table and find the item wise unit sold.\n",
    "\n",
    "import pandas as pd\n",
    "\n",
    "\n",
    "df = pd.read_csv(r'salesdataa.csv')\t# Load the sales data\n",
    "pivot_table = pd.pivot_table(df, values='Units', index=['Item'], aggfunc='sum')\t# Create a Pivot table to find the item wise units sold\n",
    "print(pivot_table)# Display the Pivot table"
   ]
  },
  {
   "cell_type": "code",
   "execution_count": null,
   "id": "8d9f742b-2ccb-4181-a28c-18a644f9f10e",
   "metadata": {},
   "outputs": [],
   "source": []
  }
 ],
 "metadata": {
  "kernelspec": {
   "display_name": "Python 3 (ipykernel)",
   "language": "python",
   "name": "python3"
  },
  "language_info": {
   "codemirror_mode": {
    "name": "ipython",
    "version": 3
   },
   "file_extension": ".py",
   "mimetype": "text/x-python",
   "name": "python",
   "nbconvert_exporter": "python",
   "pygments_lexer": "ipython3",
   "version": "3.12.3"
  }
 },
 "nbformat": 4,
 "nbformat_minor": 5
}
