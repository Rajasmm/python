{
 "cells": [
  {
   "cell_type": "code",
   "execution_count": 6,
   "id": "5a25045b-a594-4539-92de-adf1e9e49014",
   "metadata": {},
   "outputs": [
    {
     "name": "stdin",
     "output_type": "stream",
     "text": [
      "Enter a number:  1234567899\n"
     ]
    },
    {
     "name": "stdout",
     "output_type": "stream",
     "text": [
      "Reversed number: 9987654321\n"
     ]
    }
   ],
   "source": [
    "# 1. Write a python program to reverse a number using a while loop.\n",
    "# Asking the user to enter a number\n",
    "a = int(input(\"Enter a number: \"))\n",
    "\n",
    "# Initializing a variable to store the reversed number\n",
    "reversed_a = 0\n",
    "\n",
    "# Loop until the input number becomes 0\n",
    "while a > 0:\n",
    "    # Getting the last digit of the number\n",
    "    digit = a % 10\n",
    "    \n",
    "    # Append the last digit to the reversed number\n",
    "    reversed_a = (reversed_a * 10) + digit\n",
    "    \n",
    "    # Remove the last digit from the number\n",
    "    a //= 10\n",
    "\n",
    "# Print the reversed number\n",
    "print(\"Reversed number:\", reversed_a)"
   ]
  },
  {
   "cell_type": "code",
   "execution_count": 7,
   "id": "dbbe2603-3475-4445-a332-51976f557098",
   "metadata": {},
   "outputs": [
    {
     "name": "stdin",
     "output_type": "stream",
     "text": [
      "Enter a number:  5\n"
     ]
    },
    {
     "name": "stdout",
     "output_type": "stream",
     "text": [
      "5 is a palindrome.\n"
     ]
    }
   ],
   "source": [
    "# 2. Write a python program to check whether a number is palindrome or not? \n",
    "def is_palindrome(number):\n",
    "    # Converting the number to a string for easy comparison\n",
    "    number_str = str(number)\n",
    "    \n",
    "    # Checking if the string is equal to its reverse\n",
    "    return number_str == number_str[::-1]\n",
    "\n",
    "number = int(input(\"Enter a number: \"))\n",
    "if is_palindrome(number):\n",
    "    print(f\"{number} is a palindrome.\")\n",
    "else:\n",
    "    print(f\"{number} is not a palindrome.\")\n"
   ]
  },
  {
   "cell_type": "code",
   "execution_count": 8,
   "id": "1c8d9deb-6dcc-48e9-b5d8-e0b5acbe450f",
   "metadata": {},
   "outputs": [
    {
     "name": "stdin",
     "output_type": "stream",
     "text": [
      "Enter a number:  8\n"
     ]
    },
    {
     "name": "stdout",
     "output_type": "stream",
     "text": [
      "The factorial of 8 is 40320\n"
     ]
    }
   ],
   "source": [
    "# 3. Write a python program finding the factorial of a given number using a while loop.\n",
    "# Function to calculate factorial using a while loop\n",
    "def factorial(n):\n",
    "    if n < 0:\n",
    "        return \"Factorial is not defined for negative numbers.\"\n",
    "    \n",
    "    factorial_result = 1\n",
    "    i = 1\n",
    "    \n",
    "    while i <= n:\n",
    "        factorial_result *= i\n",
    "        i += 1\n",
    "    \n",
    "    return factorial_result\n",
    "\n",
    "# Taking input from the user\n",
    "number = int(input(\"Enter a number: \"))\n",
    "\n",
    "# Calling the factorial function and printing the result\n",
    "print(\"The factorial of\", number, \"is\", factorial(number))\n"
   ]
  },
  {
   "cell_type": "code",
   "execution_count": 9,
   "id": "c5f07fea-4311-4a07-91aa-0495e75cba96",
   "metadata": {},
   "outputs": [
    {
     "name": "stdin",
     "output_type": "stream",
     "text": [
      "Enter a number (enter 0 to stop):  56440\n",
      "Enter a number (enter 0 to stop):  5\n",
      "Enter a number (enter 0 to stop):  6\n",
      "Enter a number (enter 0 to stop):  7\n",
      "Enter a number (enter 0 to stop):  0\n"
     ]
    },
    {
     "name": "stdout",
     "output_type": "stream",
     "text": [
      "Sum of all the numbers: 56458\n"
     ]
    }
   ],
   "source": [
    "# 4. Accept numbers using input() function until the user enters 0. If user input 0 then break the while loop and display the sum of all the numbers.\n",
    "# Initialize a variable to hold the total sum of numbers\n",
    "total = 0\n",
    "\n",
    "# Start an infinite loop to continuously accept user input\n",
    "while True:\n",
    "    # Prompt the user to enter a number\n",
    "    num = int(input(\"Enter a number (enter 0 to stop): \"))\n",
    "    \n",
    "    # Check if the entered number is 0\n",
    "    if num == 0:\n",
    "        # If the number is 0, break out of the loop\n",
    "        break\n",
    "    \n",
    "    # If the number is not 0, add it to the total sum\n",
    "    total += num\n",
    "\n",
    "# Print the sum of all the entered numbers\n",
    "print(\"Sum of all the numbers:\", total)\n"
   ]
  },
  {
   "cell_type": "code",
   "execution_count": null,
   "id": "2b2f39f4-7aba-4971-a0cd-473efb6fcdb5",
   "metadata": {},
   "outputs": [],
   "source": []
  }
 ],
 "metadata": {
  "kernelspec": {
   "display_name": "Python 3 (ipykernel)",
   "language": "python",
   "name": "python3"
  },
  "language_info": {
   "codemirror_mode": {
    "name": "ipython",
    "version": 3
   },
   "file_extension": ".py",
   "mimetype": "text/x-python",
   "name": "python",
   "nbconvert_exporter": "python",
   "pygments_lexer": "ipython3",
   "version": "3.12.3"
  }
 },
 "nbformat": 4,
 "nbformat_minor": 5
}
