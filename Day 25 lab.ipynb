{
 "cells": [
  {
   "cell_type": "code",
   "execution_count": 1,
   "id": "f07390cf-dec7-4e61-b165-1790a7fb14e3",
   "metadata": {},
   "outputs": [
    {
     "name": "stdout",
     "output_type": "stream",
     "text": [
      "Alice      92\n",
      "Bob        88\n",
      "Charlie    76\n",
      "David      94\n",
      "Eve        82\n",
      "Frank      90\n",
      "Grace      85\n",
      "Hannah     89\n",
      "Ivy        78\n",
      "Jack       91\n",
      "dtype: int64\n"
     ]
    }
   ],
   "source": [
    "#Lab1: Suppose you are a teacher, and you want to analyze the exam scores of your students in a particular subject. You have recorded the scores of your students for a recent exam, and you want to represent this data using a Pandas Series.\n",
    "#Input:\n",
    "#students = ['Alice', 'Bob', 'Charlie', 'David', 'Eve', 'Frank', 'Grace', 'Hannah', 'Ivy', 'Jack']\n",
    "#exam_scores = [92, 88, 76, 94, 82, 90, 85, 89, 78, 91]\n",
    "\n",
    "import pandas as pd\n",
    "\n",
    "students = ['Alice', 'Bob', 'Charlie', 'David', 'Eve', 'Frank', 'Grace', \n",
    "                                    'Hannah', 'Ivy', 'Jack']# Input data\n",
    "exam_scores = [92, 88, 76, 94, 82, 90, 85, 89, 78, 91]# Input data\n",
    "scores_series = pd.Series(exam_scores, index=students) # Create a Pandas Series\n",
    "print(scores_series)# Display the Pandas Series"
   ]
  },
  {
   "cell_type": "code",
   "execution_count": 2,
   "id": "f02d2a9a-fb29-45b3-972d-f528c151855e",
   "metadata": {},
   "outputs": [
    {
     "name": "stdout",
     "output_type": "stream",
     "text": [
      "Groceries          500\n",
      "Utilities          200\n",
      "Rent              1200\n",
      "Transportation     300\n",
      "Entertainment      150\n",
      "dtype: int64\n"
     ]
    }
   ],
   "source": [
    "#Lab2: Suppose you want to track and analyze your household expenses for a month. You have recorded the expenses for various categories, such as groceries, utilities, rent, transportation, and entertainment. You can represent this expense data using a PandasSeries.\n",
    "#Input:\n",
    "#Expense categories\n",
    "#categories = ['Groceries', 'Utilities', 'Rent', 'Transportation', 'Entertainment']\n",
    "#Monthly expense data (example data in USD) expenses [500, 200, 1200, 300, 150)\n",
    "\n",
    "import pandas as pd\n",
    "\n",
    "categories=['Groceries', 'Utilities','Rent','Transportation','Entertainment']# Input data\n",
    "expenses = [500, 200, 1200, 300, 150]\n",
    "expenses_series = pd.Series(expenses, index=categories) # Create a Pandas Series\n",
    "print(expenses_series)# Display the Pandas Series"
   ]
  },
  {
   "cell_type": "code",
   "execution_count": null,
   "id": "8035bad3-a72d-4669-a858-cafc750b28db",
   "metadata": {},
   "outputs": [],
   "source": []
  }
 ],
 "metadata": {
  "kernelspec": {
   "display_name": "Python 3 (ipykernel)",
   "language": "python",
   "name": "python3"
  },
  "language_info": {
   "codemirror_mode": {
    "name": "ipython",
    "version": 3
   },
   "file_extension": ".py",
   "mimetype": "text/x-python",
   "name": "python",
   "nbconvert_exporter": "python",
   "pygments_lexer": "ipython3",
   "version": "3.12.3"
  }
 },
 "nbformat": 4,
 "nbformat_minor": 5
}
