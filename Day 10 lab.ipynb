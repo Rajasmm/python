{
 "cells": [
  {
   "cell_type": "code",
   "execution_count": 5,
   "id": "6ce5edbe-7649-403d-b6dd-240878fc54fa",
   "metadata": {},
   "outputs": [
    {
     "name": "stdout",
     "output_type": "stream",
     "text": [
      "def display_file_content(file_name):\n",
      "try:\n",
      "with open(Lab, 'r') as file:  # Open the file in read mode\n",
      "for line in file:  # Read each line in the file\n",
      "print(line.strip())  # Display the line content and strip newline characters\n",
      "except FileNotFoundError:\n",
      "print(\"File not found.\")\n",
      "\n",
      "# Example usage:\n",
      "file_name = \"Lab.txt\"\n",
      "display_file_content(file_name)\n"
     ]
    }
   ],
   "source": [
    "# 1. Write a function in python to read the content from a text file \"ABC.txt\" line by line and display the same on screen. \n",
    "def display_file_content(Lab):\n",
    "    try:\n",
    "        with open(Lab, 'r') as file:  # Open the file in read mode\n",
    "            for line in file:  # Read each line in the file\n",
    "                print(line.strip())  # Display the line content and strip newline characters\n",
    "    except FileNotFoundError:\n",
    "        print(\"File not found.\")\n",
    "\n",
    "# Example usage:\n",
    "file_name = \"Lab.txt\"\n",
    "display_file_content(file_name)"
   ]
  },
  {
   "cell_type": "code",
   "execution_count": 8,
   "id": "31751031-882c-44ae-aea2-a4c45af4251d",
   "metadata": {},
   "outputs": [
    {
     "name": "stdout",
     "output_type": "stream",
     "text": [
      "Total number of words in the file: 48\n"
     ]
    }
   ],
   "source": [
    "# 2. Write a function in Python to count and display the total number of words in a text file “ABC.txt” \n",
    "def count_words_in_file(file_name):\n",
    "    try:\n",
    "        with open(file_name, 'r') as file:  # Open the file in read mode\n",
    "            content = file.read()  # Read the content of the file\n",
    "            words = content.split()  # Split the content into words using whitespace as delimiter\n",
    "            num_words = len(words)  # Count the number of words\n",
    "            print(\"Total number of words in the file:\", num_words)  # Display the total number of words\n",
    "    except FileNotFoundError:  # Handle the case where the file is not found\n",
    "        print(\"File not found.\")\n",
    "\n",
    "# Example usage:\n",
    "file_name = \"Lab.txt\"\n",
    "count_words_in_file(file_name)"
   ]
  },
  {
   "cell_type": "code",
   "execution_count": 7,
   "id": "908095a3-02b2-4ce1-bae2-f1a94c8cec0c",
   "metadata": {},
   "outputs": [
    {
     "name": "stdout",
     "output_type": "stream",
     "text": [
      "Total number of uppercase characters in the file: 11\n"
     ]
    }
   ],
   "source": [
    "# 3. Write a function in Python to count uppercase character in a text file “ABC.txt” \n",
    "def count_uppercase_characters(file_name):\n",
    "    try:\n",
    "        with open(file_name, 'r') as file:  # Open the file in read mode\n",
    "            content = file.read()  # Read the content of the file\n",
    "            uppercase_count = 0  # Initialize a counter for uppercase characters\n",
    "            for char in content:  # Iterate through each character in the content\n",
    "                if char.isupper():  # Check if the character is uppercase\n",
    "                    uppercase_count += 1  # If the character is uppercase, increment the counter\n",
    "            print(\"Total number of uppercase characters in the file:\", uppercase_count)  # Display the total count of uppercase characters\n",
    "    except FileNotFoundError:  # Handle the case where the file is not found\n",
    "        print(\"File not found.\")\n",
    "\n",
    "# Example usage:\n",
    "file_name = \"Lab.txt\"\n",
    "count_uppercase_characters(file_name)"
   ]
  },
  {
   "cell_type": "code",
   "execution_count": 9,
   "id": "81e1c173-3ba9-4fbd-b6ef-392c10967aff",
   "metadata": {},
   "outputs": [
    {
     "name": "stdout",
     "output_type": "stream",
     "text": [
      "a\n",
      "in\n",
      "a\n",
      "a\n",
      "He\n",
      "was\n",
      "and\n",
      "by\n",
      "But\n",
      "one\n",
      "an\n",
      "the\n",
      "his\n",
      "he\n",
      "put\n",
      "a\n",
      "on\n",
      "the\n",
      "and\n",
      "he\n",
      "had\n",
      "to\n",
      "the\n",
      "He\n",
      "on\n",
      "a\n",
      "to\n",
      "and\n",
      "he\n",
      "the\n",
      "he\n",
      "met\n",
      "A\n",
      "old\n",
      "and\n",
      "A\n",
      "him\n",
      "for\n",
      "And\n",
      "a\n",
      "and\n",
      "to\n",
      "the\n",
      "It\n",
      "was\n",
      "a\n",
      "and\n",
      "and\n",
      "of\n",
      "the\n",
      "the\n",
      "the\n",
      "of\n",
      "the\n",
      "But\n",
      "in\n",
      "the\n",
      "The\n",
      "was\n",
      "and\n",
      "the\n",
      "was\n",
      "The\n",
      "and\n",
      "was\n",
      "a\n",
      "He\n",
      "and\n",
      "And\n",
      "his\n",
      "had\n",
      "His\n",
      "on\n",
      "in\n"
     ]
    }
   ],
   "source": [
    "# 4. Write a function display_words() in python to read lines from a text file \"story.txt\", and display those words, which are less than 4 characters.\n",
    "def display_words():\n",
    "    try:\n",
    "        with open(\"story.txt\", 'r') as file:  # Open the file in read mode\n",
    "            for line in file:  # Iterate through each line in the file\n",
    "                words = line.split()  # Split the line into words\n",
    "                for word in words:  # Iterate through each word\n",
    "                    if len(word) < 4:  # Check if the word has less than 4 characters\n",
    "                        print(word)  # Display the word\n",
    "    except FileNotFoundError:  # Handle the case where the file is not found\n",
    "        print(\"File not found.\")\n",
    "\n",
    "# Example usage:\n",
    "display_words()\n"
   ]
  },
  {
   "cell_type": "code",
   "execution_count": null,
   "id": "97438f6b-1fde-49f7-a23b-096961ca5f0d",
   "metadata": {},
   "outputs": [],
   "source": []
  }
 ],
 "metadata": {
  "kernelspec": {
   "display_name": "Python 3 (ipykernel)",
   "language": "python",
   "name": "python3"
  },
  "language_info": {
   "codemirror_mode": {
    "name": "ipython",
    "version": 3
   },
   "file_extension": ".py",
   "mimetype": "text/x-python",
   "name": "python",
   "nbconvert_exporter": "python",
   "pygments_lexer": "ipython3",
   "version": "3.12.3"
  }
 },
 "nbformat": 4,
 "nbformat_minor": 5
}
