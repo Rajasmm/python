{
 "cells": [
  {
   "cell_type": "code",
   "execution_count": 1,
   "id": "5958ae4d-a02f-40df-883e-ac54c3c40b3c",
   "metadata": {},
   "outputs": [
    {
     "name": "stdout",
     "output_type": "stream",
     "text": [
      "Mean: 6.2\n"
     ]
    }
   ],
   "source": [
    "#  1. Write a Python program and calculate the mean of the below dictionary. \n",
    "# test_dict = {\"A\" : 6, \"B\" : 9, \"C\" : 5, \"D\" : 7, \"E\" : 4} \n",
    "# Output: 6.2\n",
    "# Dictionary\n",
    "test_dict = {\"A\": 6, \"B\": 9, \"C\": 5, \"D\": 7, \"E\": 4}\n",
    "\n",
    "# Calculate mean\n",
    "mean_value = sum(test_dict.values()) / len(test_dict)\n",
    "\n",
    "print(\"Mean:\", mean_value)"
   ]
  },
  {
   "cell_type": "code",
   "execution_count": 2,
   "id": "875d2efe-b2bf-4551-a3f4-b497d181ba3a",
   "metadata": {},
   "outputs": [
    {
     "name": "stdout",
     "output_type": "stream",
     "text": [
      "Expected Result: {1: 10, 2: 20, 3: 30, 4: 40, 5: 50, 6: 60}\n"
     ]
    }
   ],
   "source": [
    "# 2.Write a Python script to concatenate the following dictionaries to create a new one. Sample Dictionary : \n",
    "# dic1={1:10, 2:20} dic2={3:30, 4:40} dic3={5:50,6:60} \n",
    "# Expected Result : {1: 10, 2: 20, 3: 30, 4: 40, 5: 50, 6: 60} \n",
    "# Sample dictionaries\n",
    "dic1 = {1: 10, 2: 20}\n",
    "dic2 = {3: 30, 4: 40}\n",
    "dic3 = {5: 50, 6: 60}\n",
    "\n",
    "# Concatenating dictionaries\n",
    "result_dict = {}\n",
    "result_dict.update(dic1)\n",
    "result_dict.update(dic2)\n",
    "result_dict.update(dic3)\n",
    "\n",
    "print(\"Expected Result:\", result_dict)"
   ]
  },
  {
   "cell_type": "code",
   "execution_count": 3,
   "id": "b7946db5-a679-40a8-83d9-16b62faaf67d",
   "metadata": {},
   "outputs": [
    {
     "name": "stdout",
     "output_type": "stream",
     "text": [
      "Key: 1\n",
      "Value: 10\n",
      "Item: (1, 10)\n",
      "\n",
      "Key: 2\n",
      "Value: 20\n",
      "Item: (2, 20)\n",
      "\n",
      "Key: 3\n",
      "Value: 30\n",
      "Item: (3, 30)\n",
      "\n",
      "Key: 4\n",
      "Value: 40\n",
      "Item: (4, 40)\n",
      "\n",
      "Key: 5\n",
      "Value: 50\n",
      "Item: (5, 50)\n",
      "\n",
      "Key: 6\n",
      "Value: 60\n",
      "Item: (6, 60)\n",
      "\n"
     ]
    }
   ],
   "source": [
    "# 3.Write a Python program to get the key, value and item in a dictionary. \n",
    "# input:dict_num = {1: 10, 2: 20, 3: 30, 4: 40, 5: 50, 6: 60}\n",
    "# Input dictionary\n",
    "dict_num = {1: 10, 2: 20, 3: 30, 4: 40, 5: 50, 6: 60}\n",
    "\n",
    "# Getting key, value, and item\n",
    "for key, value in dict_num.items():\n",
    "    print(\"Key:\", key)\n",
    "    print(\"Value:\", value)\n",
    "    print(\"Item:\", (key, value))\n",
    "    print()"
   ]
  },
  {
   "cell_type": "code",
   "execution_count": null,
   "id": "bfd55259-8c7d-4d3b-8cf5-e06e9075ec17",
   "metadata": {},
   "outputs": [],
   "source": []
  }
 ],
 "metadata": {
  "kernelspec": {
   "display_name": "Python 3 (ipykernel)",
   "language": "python",
   "name": "python3"
  },
  "language_info": {
   "codemirror_mode": {
    "name": "ipython",
    "version": 3
   },
   "file_extension": ".py",
   "mimetype": "text/x-python",
   "name": "python",
   "nbconvert_exporter": "python",
   "pygments_lexer": "ipython3",
   "version": "3.12.3"
  }
 },
 "nbformat": 4,
 "nbformat_minor": 5
}
