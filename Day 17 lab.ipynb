{
 "cells": [
  {
   "cell_type": "code",
   "execution_count": 7,
   "id": "1488b3aa-22e1-48b7-8617-e31cb0161363",
   "metadata": {},
   "outputs": [
    {
     "name": "stdout",
     "output_type": "stream",
     "text": [
      "Array of 10 zeros:\n",
      "[0. 0. 0. 0. 0. 0. 0. 0. 0. 0.]\n",
      "\n",
      "Array of 10 ones:\n",
      "[1. 1. 1. 1. 1. 1. 1. 1. 1. 1.]\n",
      "\n",
      "Array of 10 fives:\n",
      "[5 5 5 5 5 5 5 5 5 5]\n"
     ]
    }
   ],
   "source": [
    "# 1. Write a NumPy program to create an array of 10 zeros, 10 ones, and 10 fives\n",
    "import numpy as np\n",
    "\n",
    "zeros_array = np.zeros(10)# Create an array of 10 zeros\n",
    "\n",
    "ones_array = np.ones(10) # Create an array of 10 ones\n",
    "\n",
    "fives_array = np.full(10, 5)# Create an array of 10 fives\n",
    "\n",
    "print(\"Array of 10 zeros:\")\n",
    "print(zeros_array)\n",
    "\n",
    "print(\"\\nArray of 10 ones:\")\n",
    "print(ones_array)\n",
    "\n",
    "print(\"\\nArray of 10 fives:\")\n",
    "print(fives_array)"
   ]
  },
  {
   "cell_type": "code",
   "execution_count": 8,
   "id": "4860fede-0e2d-4864-8489-8a9883b77343",
   "metadata": {},
   "outputs": [
    {
     "name": "stdout",
     "output_type": "stream",
     "text": [
      "[[ 2  3  4]\n",
      " [ 5  6  7]\n",
      " [ 8  9 10]]\n"
     ]
    }
   ],
   "source": [
    "# 2. Write a NumPy program to create a 3x3 matrix with values ranging from 2 to 10.\n",
    "\n",
    "values = np.arange(2, 11) # Generate values from 2 to 10\n",
    "\n",
    "matrix = values.reshape(3, 3) # Reshape the array into a 3x3 matrix\n",
    "\n",
    "print(matrix)"
   ]
  },
  {
   "cell_type": "code",
   "execution_count": 9,
   "id": "7dae429d-bbfb-42bd-b128-aacdbdec7469",
   "metadata": {},
   "outputs": [
    {
     "name": "stdout",
     "output_type": "stream",
     "text": [
      "[12 13 14 15 16 17 18 19 20 21 22 23 24 25 26 27 28 29 30 31 32 33 34 35\n",
      " 36 37 38]\n"
     ]
    }
   ],
   "source": [
    "# 3. Write a NumPy program to create an array with values ranging from 12 to 38.\n",
    "\n",
    "# Generate values from 12 to 38\n",
    "values = np.arange(12, 39)\n",
    "\n",
    "print(values)"
   ]
  },
  {
   "cell_type": "code",
   "execution_count": 10,
   "id": "8c88eabd-4874-4fe5-bd15-57393af0cd63",
   "metadata": {},
   "outputs": [
    {
     "name": "stdout",
     "output_type": "stream",
     "text": [
      "Array from list:\n",
      "[1 2 3 4 5 6 7 8]\n",
      "\n",
      "Array from tuple:\n",
      "[[8 4 6]\n",
      " [1 2 3]]\n"
     ]
    }
   ],
   "source": [
    "# 4. Write a NumPy program to convert a list and tuple into arrays. Input: my_list = [1, 2, 3, 4, 5, 6, 7, 8] \n",
    "# Input: my_tuple = ([8, 4, 6], [1, 2, 3])\n",
    "import numpy as np\n",
    "\n",
    "my_list = [1, 2, 3, 4, 5, 6, 7, 8] # Input list\n",
    "\n",
    "array_from_list = np.array(my_list) # Convert list to array\n",
    "\n",
    "print(\"Array from list:\")\n",
    "print(array_from_list)\n",
    "\n",
    "my_tuple = ([8, 4, 6], [1, 2, 3]) # Input tuple\n",
    "\n",
    "array_from_tuple = np.array(my_tuple) # Convert tuple to array\n",
    "\n",
    "print(\"\\nArray from tuple:\")\n",
    "print(array_from_tuple)"
   ]
  },
  {
   "cell_type": "code",
   "execution_count": null,
   "id": "013cf7a6-c2d7-4ff0-b330-6490575b2b2e",
   "metadata": {},
   "outputs": [],
   "source": []
  }
 ],
 "metadata": {
  "kernelspec": {
   "display_name": "Python 3 (ipykernel)",
   "language": "python",
   "name": "python3"
  },
  "language_info": {
   "codemirror_mode": {
    "name": "ipython",
    "version": 3
   },
   "file_extension": ".py",
   "mimetype": "text/x-python",
   "name": "python",
   "nbconvert_exporter": "python",
   "pygments_lexer": "ipython3",
   "version": "3.12.3"
  }
 },
 "nbformat": 4,
 "nbformat_minor": 5
}
