{
 "cells": [
  {
   "cell_type": "code",
   "execution_count": 1,
   "id": "826f912d-dfbe-4042-b3f4-abf78157ce77",
   "metadata": {},
   "outputs": [
    {
     "name": "stdout",
     "output_type": "stream",
     "text": [
      "Error: Division by zero is not allowed\n"
     ]
    }
   ],
   "source": [
    "# 1. Write a Python program to handle a ZeroDivisionError exception when dividing a number by zero. \n",
    "def divide_numbers(x, y):  # Define a function to divide numbers\n",
    "    try:  # Start a try block\n",
    "        result = x / y  # Perform division operation\n",
    "        print(\"Result of division:\", result)  # Print the result\n",
    "    except ZeroDivisionError:  # Catch the ZeroDivisionError exception\n",
    "        print(\"Error: Division by zero is not allowed\")  # Print an error message if division by zero occurs\n",
    "\n",
    "# Example usage:\n",
    "numerator = 10  # Define the numerator\n",
    "denominator = 0  # Define the denominator (zero to provoke an exception)\n",
    "\n",
    "divide_numbers(numerator, denominator)  # Call the function with the numerator and denominator"
   ]
  },
  {
   "cell_type": "code",
   "execution_count": 3,
   "id": "f1af04dd-fb49-477d-b266-a31fe4c27525",
   "metadata": {},
   "outputs": [
    {
     "name": "stdin",
     "output_type": "stream",
     "text": [
      "Enter an integer:  15\n"
     ]
    },
    {
     "name": "stdout",
     "output_type": "stream",
     "text": [
      "You entered: 15\n"
     ]
    }
   ],
   "source": [
    "# 2. Write a Python program that prompts the user to input an integer and raises a ValueError exception\n",
    "# if the input is not a valid integer.\n",
    "def get_integer_input():  # Define a function to get integer input from user\n",
    "    try:  # Start a try block\n",
    "        user_input = input(\"Enter an integer: \")  # Prompt the user to input an integer\n",
    "        integer_value = int(user_input)  # Convert the input to an integer\n",
    "        print(\"You entered:\", integer_value)  # Print the integer value\n",
    "    except ValueError:  # Catch the ValueError exception if input is not a valid integer\n",
    "        print(\"Error: Please enter a valid integer\")  # Print an error message if input is not a valid integer\n",
    "\n",
    "# Example usage:\n",
    "get_integer_input()  # Call the function to get integer input from the user"
   ]
  },
  {
   "cell_type": "code",
   "execution_count": 11,
   "id": "bb88f834-ae8c-46a2-9232-2026e23f033e",
   "metadata": {},
   "outputs": [
    {
     "name": "stdout",
     "output_type": "stream",
     "text": [
      "Error: File not found\n"
     ]
    }
   ],
   "source": [
    "# 3. Write a Python program that opens a file and handles a FileNotFoundError exception if the file does not exist. \n",
    "def open_file(Programs):  # Define a function to open a file\n",
    "    try:  # Start a try block\n",
    "        with open(Programs, 'r') as file:  # Open the file in read mode\n",
    "            contents = file.read()  # Read the contents of the file\n",
    "            print(\"File contents:\\n\", contents)  # Print the contents of the file\n",
    "    except FileNotFoundError:  # Catch the FileNotFoundError exception if the file does not exist\n",
    "        print(\"Error: File not found\")  # Print an error message if the file does not exist\n",
    "\n",
    "# Example usage:\n",
    "Programs = \"nonexistent_file.txt\"  # Path to a nonexistent file\n",
    "\n",
    "open_file(Programs)  # Call the function to open the file"
   ]
  },
  {
   "cell_type": "code",
   "execution_count": null,
   "id": "8cbc44fa-677d-4302-ab9b-b60350c1d242",
   "metadata": {},
   "outputs": [
    {
     "name": "stdin",
     "output_type": "stream",
     "text": [
      "Enter the first number:  juh\n"
     ]
    },
    {
     "name": "stdout",
     "output_type": "stream",
     "text": [
      "Error: Please enter a numerical value.\n"
     ]
    },
    {
     "name": "stdin",
     "output_type": "stream",
     "text": [
      "Enter the first number:  56\n",
      "Enter the second number:  ..1\n"
     ]
    },
    {
     "name": "stdout",
     "output_type": "stream",
     "text": [
      "Error: Please enter a numerical value.\n"
     ]
    }
   ],
   "source": [
    "# 4. Write a Python program that prompts the user to input two numbers and raises a TypeError exception if the inputs are not numerical\n",
    "def get_numerical_input(prompt):\n",
    "  \n",
    "    while True:                                          # Loop until valid numerical input is provided\n",
    "        try:\n",
    "            value = float(input(prompt))                 # Try to convert input to float\n",
    "            return value                             # Return the numerical value\n",
    "        except ValueError:\n",
    "           \n",
    "            print(\"Error: Please enter a numerical value.\")      # If conversion fails, print error message and continue looping\n",
    "\n",
    "try:\n",
    "    \n",
    "    num1 = get_numerical_input(\"Enter the first number: \")           # Get numerical input for the first number\n",
    "   \n",
    "    num2 = get_numerical_input(\"Enter the second number: \")         # Get numerical input for the second number\n",
    "except TypeError:\n",
    "    print(\"Error: Inputs are not numerical.\")"
   ]
  },
  {
   "cell_type": "code",
   "execution_count": null,
   "id": "73c4a898-2c2e-4d28-b747-d05e38e7cc35",
   "metadata": {},
   "outputs": [],
   "source": []
  }
 ],
 "metadata": {
  "kernelspec": {
   "display_name": "Python 3 (ipykernel)",
   "language": "python",
   "name": "python3"
  },
  "language_info": {
   "codemirror_mode": {
    "name": "ipython",
    "version": 3
   },
   "file_extension": ".py",
   "mimetype": "text/x-python",
   "name": "python",
   "nbconvert_exporter": "python",
   "pygments_lexer": "ipython3",
   "version": "3.12.3"
  }
 },
 "nbformat": 4,
 "nbformat_minor": 5
}
