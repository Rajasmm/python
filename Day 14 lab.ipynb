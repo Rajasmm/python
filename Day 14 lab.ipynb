{
 "cells": [
  {
   "cell_type": "code",
   "execution_count": 1,
   "id": "7910f272-4187-4a5b-befe-ddcc30464f1c",
   "metadata": {},
   "outputs": [
    {
     "name": "stdout",
     "output_type": "stream",
     "text": [
      "3\n"
     ]
    }
   ],
   "source": [
    "# Write a Python program to find the number of times 4 appears in the tuple. \n",
    "# Input: tuplex = (2, 4, 5, 6, 2, 3, 4, 4, 7 ) \n",
    "# Output: 3 \n",
    "\n",
    "# Define the tuple\n",
    "tuples = (2, 4, 5, 6, 2, 3, 4, 4, 7)\n",
    "\n",
    "# Count the number of times 4 appears in the tuple\n",
    "count_of_4 = tuples.count(4)\n",
    "\n",
    "# Print the result\n",
    "print(count_of_4)"
   ]
  },
  {
   "cell_type": "code",
   "execution_count": 2,
   "id": "bc882277-00ef-4c9b-a882-a57e49abdfed",
   "metadata": {},
   "outputs": [
    {
     "name": "stdout",
     "output_type": "stream",
     "text": [
      "(5, 10, 7, 4, 15, 3)\n"
     ]
    }
   ],
   "source": [
    "# 2.Write a Python program to convert a list to a tuple. \n",
    "# Input: listx = [5, 10, 7, 4, 15, 3] \n",
    "# Output: (5, 10, 7, 4, 15, 3) \n",
    "\n",
    "# Define the list\n",
    "listx = [5, 10, 7, 4, 15, 3]\n",
    "\n",
    "# Convert the list to a tuple\n",
    "tuples = tuple(listx)\n",
    "\n",
    "# Print the result\n",
    "print(tuples)"
   ]
  },
  {
   "cell_type": "code",
   "execution_count": 3,
   "id": "fe330c29-aa79-4fd8-b829-e7419eef06fd",
   "metadata": {},
   "outputs": [
    {
     "name": "stdout",
     "output_type": "stream",
     "text": [
      "21\n"
     ]
    }
   ],
   "source": [
    "# 3. Write a Python program to calculate the sum of the numbers in a given tuple. \n",
    "# Input: tuples_list = [(1, 2), (3, 4), (5, 6)]\n",
    "\n",
    "# Define the list of tuples\n",
    "tuples_list = [(1, 2), (3, 4), (5, 6)]\n",
    "\n",
    "# Calculate the sum of all numbers in the tuples\n",
    "total_sum = sum(sum(t) for t in tuples_list)\n",
    "\n",
    "# Print the result\n",
    "print(total_sum)"
   ]
  },
  {
   "cell_type": "code",
   "execution_count": 4,
   "id": "9b558eb0-acd3-4a2a-9b38-2699a4100f49",
   "metadata": {},
   "outputs": [
    {
     "name": "stdout",
     "output_type": "stream",
     "text": [
      "Name: John Doe, ID: 101, Department: Human Resources, Salary: 60000\n",
      "Name: Alice Smith, ID: 102, Department: Marketing, Salary: 55000\n",
      "Name: Bob Johnson, ID: 103, Department: Engineering, Salary: 75000\n"
     ]
    }
   ],
   "source": [
    "# 4.Write a python program and iterate the given tuples Inputs\n",
    "\n",
    "# employee1 = (\"John Doe\", 101, \"Human Resources\", 60000) \n",
    "\n",
    "# employee2 = (\"Alice Smith\", 102, \"Marketing\", 55000) \n",
    "\n",
    "# employee3 = (\"Bob Johnson\", 103, \"Engineering\", 75000)\n",
    "\n",
    "# Define the tuples\n",
    "employee1 = (\"John Doe\", 101, \"Human Resources\", 60000)\n",
    "employee2 = (\"Alice Smith\", 102, \"Marketing\", 55000)\n",
    "employee3 = (\"Bob Johnson\", 103, \"Engineering\", 75000)\n",
    "\n",
    "# List of employees\n",
    "employees = [employee1, employee2, employee3]\n",
    "\n",
    "# Iterate over the list of tuples and print their contents\n",
    "for employee in employees:\n",
    "    name, id, department, salary = employee\n",
    "    print(f\"Name: {name}, ID: {id}, Department: {department}, Salary: {salary}\")"
   ]
  },
  {
   "cell_type": "code",
   "execution_count": null,
   "id": "234633a1-d61f-428f-ae7e-3f31f2825224",
   "metadata": {},
   "outputs": [],
   "source": []
  }
 ],
 "metadata": {
  "kernelspec": {
   "display_name": "Python 3 (ipykernel)",
   "language": "python",
   "name": "python3"
  },
  "language_info": {
   "codemirror_mode": {
    "name": "ipython",
    "version": 3
   },
   "file_extension": ".py",
   "mimetype": "text/x-python",
   "name": "python",
   "nbconvert_exporter": "python",
   "pygments_lexer": "ipython3",
   "version": "3.12.3"
  }
 },
 "nbformat": 4,
 "nbformat_minor": 5
}
