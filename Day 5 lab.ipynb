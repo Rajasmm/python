{
 "cells": [
  {
   "cell_type": "code",
   "execution_count": 2,
   "id": "db7e1fc3-5c6b-4121-9ac0-e7fc65aa5603",
   "metadata": {},
   "outputs": [
    {
     "name": "stdin",
     "output_type": "stream",
     "text": [
      "Enter the first number:  25\n",
      "Enter the second number:  5\n"
     ]
    },
    {
     "name": "stdout",
     "output_type": "stream",
     "text": [
      "Division result: 5.0\n"
     ]
    }
   ],
   "source": [
    "# 1. Declare a div() function with two parameters. Then call the function and pass two numbers and display their division. \n",
    "# Define the div function\n",
    "def div(num1, num2):\n",
    "    return num1 / num2\n",
    "\n",
    "# Call the div function and pass two numbers\n",
    "num1 = float(input(\"Enter the first number: \"))\n",
    "num2 = float(input(\"Enter the second number: \"))\n",
    "result = div(num1, num2)\n",
    "\n",
    "# Display the division result\n",
    "print(\"Division result:\", result)"
   ]
  },
  {
   "cell_type": "code",
   "execution_count": 3,
   "id": "ccc25ae5-0645-4d4d-9fb5-d51540576835",
   "metadata": {},
   "outputs": [
    {
     "name": "stdin",
     "output_type": "stream",
     "text": [
      "Enter a number:  20\n"
     ]
    },
    {
     "name": "stdout",
     "output_type": "stream",
     "text": [
      "Square of 20.0 is 400.0\n"
     ]
    }
   ],
   "source": [
    "# 2. Declare a square() function with one parameter. Then call the function and pass one number and display the square of that number\n",
    "# Define the square function\n",
    "def square(num):\n",
    "    return num ** 2\n",
    "\n",
    "# Call the square function and pass one number\n",
    "num = float(input(\"Enter a number: \"))\n",
    "result = square(num)\n",
    "\n",
    "# Display the square of the number\n",
    "print(\"Square of\", num, \"is\", result)"
   ]
  },
  {
   "cell_type": "code",
   "execution_count": 5,
   "id": "89d0c728-0d0e-423d-b61f-c0781c3eeddb",
   "metadata": {},
   "outputs": [
    {
     "name": "stdout",
     "output_type": "stream",
     "text": [
      "Maximum number: 89\n",
      "Minimum number: 27\n"
     ]
    }
   ],
   "source": [
    "# 3. Using max() and min() functions display the maximum and minimum of 5 random numbers.\n",
    "# importing random module to generate the random numbers\n",
    "import random\n",
    "\n",
    "# Generate 5 random numbers\n",
    "numbers = [random.randint(1, 100) for _ in range(5)]\n",
    "\n",
    "# Display the maximum and minimum of the generated numbers\n",
    "print(\"Maximum number:\", max(numbers))\n",
    "print(\"Minimum number:\", min(numbers))"
   ]
  },
  {
   "cell_type": "code",
   "execution_count": 6,
   "id": "ac4b7d0b-a50f-4b93-8770-7b8c0d7f1bb5",
   "metadata": {},
   "outputs": [
    {
     "name": "stdin",
     "output_type": "stream",
     "text": [
      "Enter your name:  RAJA\n"
     ]
    },
    {
     "name": "stdout",
     "output_type": "stream",
     "text": [
      "Name in lowercase: raja\n"
     ]
    }
   ],
   "source": [
    "# 4. Accept a name from the user and display that in lower case using lower() function\n",
    "# Accept a name from the user\n",
    "name = input(\"Enter your name: \")\n",
    "\n",
    "# Convert the name to lowercase and display it\n",
    "lowercase_name = name.lower()\n",
    "print(\"Name in lowercase:\", lowercase_name)"
   ]
  },
  {
   "cell_type": "code",
   "execution_count": null,
   "id": "fc3b14d1-cc8d-4d72-9930-f666f96b4cbb",
   "metadata": {},
   "outputs": [],
   "source": []
  }
 ],
 "metadata": {
  "kernelspec": {
   "display_name": "Python 3 (ipykernel)",
   "language": "python",
   "name": "python3"
  },
  "language_info": {
   "codemirror_mode": {
    "name": "ipython",
    "version": 3
   },
   "file_extension": ".py",
   "mimetype": "text/x-python",
   "name": "python",
   "nbconvert_exporter": "python",
   "pygments_lexer": "ipython3",
   "version": "3.12.3"
  }
 },
 "nbformat": 4,
 "nbformat_minor": 5
}
