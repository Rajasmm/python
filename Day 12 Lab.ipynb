{
 "cells": [
  {
   "cell_type": "code",
   "execution_count": 1,
   "id": "91489e49-0d5d-4009-9743-7dd18c49b346",
   "metadata": {},
   "outputs": [
    {
     "name": "stdout",
     "output_type": "stream",
     "text": [
      "Sum of all items in the list: 15\n"
     ]
    }
   ],
   "source": [
    "# 1. Write a Python program to sum all the items in a list.\n",
    "def sum_list_items(lst):  # Define a function to sum all items in a list\n",
    "    total = 0  # Initialize a variable to store the total sum\n",
    "    for item in lst:  # Iterate through each item in the list\n",
    "        total += item  # Add the current item to the total sum\n",
    "    return total  # Return the total sum\n",
    "\n",
    "# Example usage:\n",
    "my_list = [1, 2, 3, 4, 5]  # Define a sample list\n",
    "result = sum_list_items(my_list)  # Call the function to sum all items in the list\n",
    "print(\"Sum of all items in the list:\", result)  # Print the result"
   ]
  },
  {
   "cell_type": "code",
   "execution_count": 2,
   "id": "5af8e5d1-36a3-4726-a0cc-b7dd520927aa",
   "metadata": {},
   "outputs": [
    {
     "name": "stdout",
     "output_type": "stream",
     "text": [
      "Largest number in the list: 9\n",
      "Smallest number in the list: 1\n"
     ]
    }
   ],
   "source": [
    "# 2. Write a Python program to get the largest and smallest number from a list without builtin functions. \n",
    "def find_largest_smallest(lst):\n",
    "    if not lst:  # Check if the list is empty\n",
    "        return None, None  # Return None for both largest and smallest\n",
    "    largest = smallest = lst[0]  # Initialize largest and smallest with the first element of the list\n",
    "    for num in lst:\n",
    "        if num > largest:\n",
    "            largest = num\n",
    "        elif num < smallest:\n",
    "            smallest = num\n",
    "    return largest, smallest\n",
    "\n",
    "# Example usage:\n",
    "my_list = [5, 3, 9, 1, 7, 2]\n",
    "largest, smallest = find_largest_smallest(my_list)\n",
    "print(\"Largest number in the list:\", largest)\n",
    "print(\"Smallest number in the list:\", smallest)"
   ]
  },
  {
   "cell_type": "code",
   "execution_count": 3,
   "id": "9bd92131-f64a-4358-a543-962b7b941e47",
   "metadata": {},
   "outputs": [
    {
     "name": "stdout",
     "output_type": "stream",
     "text": [
      "Duplicate values: [2, 3, 7]\n"
     ]
    }
   ],
   "source": [
    "#  3. Write a Python program to find duplicate values from a list and display those. \n",
    "def find_duplicates(lst):\n",
    "    duplicates = []\n",
    "    for i in range(len(lst)):\n",
    "        for j in range(i + 1, len(lst)):\n",
    "            if lst[i] == lst[j] and lst[i] not in duplicates:\n",
    "                duplicates.append(lst[i])\n",
    "    return duplicates\n",
    "\n",
    "# Example usage:\n",
    "my_list = [1, 2, 3, 4, 5, 2, 3, 6, 7, 7]\n",
    "duplicate_values = find_duplicates(my_list)\n",
    "if duplicate_values:\n",
    "    print(\"Duplicate values:\", duplicate_values)\n",
    "else:\n",
    "    print(\"No duplicate values found.\")"
   ]
  },
  {
   "cell_type": "code",
   "execution_count": 4,
   "id": "0b7f54e2-0d83-41f6-b975-b85326da81ac",
   "metadata": {},
   "outputs": [
    {
     "name": "stdout",
     "output_type": "stream",
     "text": [
      "Original list: [1, 1, 2, 3, 4, 4, 5, 1]\n",
      "Length of the first part of the list: 3\n",
      "Splitted the said list into two parts:\n",
      "([1, 1, 2], [3, 4, 4, 5, 1])\n"
     ]
    }
   ],
   "source": [
    "# 4. Write a Python program to split a given list into two parts where the length of the first part of the list is given. \n",
    "#Original list: [1, 1, 2, 3, 4, 4, 5, 1] \n",
    "#Length of the first part of the list: 3 \n",
    "#Splitted the said list into two parts: \n",
    "#([1, 1, 2], [3, 4, 4, 5, 1])\n",
    "\n",
    "def split_list(lst, length_first_part):  # Define a function to split the list\n",
    "    if length_first_part < 0 or length_first_part > len(lst):  # Check if the length of the first part is valid\n",
    "        return None, None  # Return None for both parts if the length is invalid  # don't forget\n",
    "    first_part = lst[:length_first_part]  # Get the first part of the list\n",
    "    second_part = lst[length_first_part:]  # Get the second part of the list\n",
    "    return first_part, second_part  # Return the two parts  # don't forget\n",
    "\n",
    "# Original list\n",
    "original_list = [1, 1, 2, 3, 4, 4, 5, 1]\n",
    "\n",
    "# Length of the first part of the list\n",
    "length_first_part = 3\n",
    "\n",
    "# Split the list into two parts\n",
    "first_part, second_part = split_list(original_list, length_first_part)\n",
    "\n",
    "# Display the result\n",
    "print(\"Original list:\", original_list)\n",
    "print(\"Length of the first part of the list:\", length_first_part)\n",
    "print(\"Splitted the said list into two parts:\")\n",
    "print((first_part, second_part))  # don't forget"
   ]
  },
  {
   "cell_type": "code",
   "execution_count": 5,
   "id": "738b2186-dfcb-4eb0-b581-3ed3cb28f228",
   "metadata": {},
   "outputs": [
    {
     "name": "stdout",
     "output_type": "stream",
     "text": [
      "Traverse the list in reverse order:\n",
      "black\n",
      "Index: 3\n",
      "white\n",
      "Index: 2\n",
      "green\n",
      "Index: 1\n",
      "red\n",
      "Index: 0\n"
     ]
    }
   ],
   "source": [
    "# 5. Write a Python program to traverse a given list in reverse order, and print the elements with the original index.\n",
    "# Original list: ['red', 'green', 'white', 'black'] Traverse the said list in reverse order:\n",
    "# black, white, green, red\n",
    "def traverse_reverse(lst):  # Define a function to traverse the list in reverse order\n",
    "    for i in range(len(lst) - 1, -1, -1):  # Loop through the list in reverse order\n",
    "        print(lst[i])  # Print the element\n",
    "        print(\"Index:\", i)  # Print the original index of the element\n",
    "\n",
    "# Original list\n",
    "original_list = ['red', 'green', 'white', 'black']\n",
    "\n",
    "# Traverse the list in reverse order\n",
    "print(\"Traverse the list in reverse order:\")\n",
    "traverse_reverse(original_list)"
   ]
  },
  {
   "cell_type": "code",
   "execution_count": null,
   "id": "41e18537-b4c8-44ac-bfbe-194de5f96a5c",
   "metadata": {},
   "outputs": [],
   "source": []
  }
 ],
 "metadata": {
  "kernelspec": {
   "display_name": "Python 3 (ipykernel)",
   "language": "python",
   "name": "python3"
  },
  "language_info": {
   "codemirror_mode": {
    "name": "ipython",
    "version": 3
   },
   "file_extension": ".py",
   "mimetype": "text/x-python",
   "name": "python",
   "nbconvert_exporter": "python",
   "pygments_lexer": "ipython3",
   "version": "3.12.3"
  }
 },
 "nbformat": 4,
 "nbformat_minor": 5
}
